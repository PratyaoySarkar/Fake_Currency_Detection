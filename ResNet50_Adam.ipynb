{
  "nbformat": 4,
  "nbformat_minor": 0,
  "metadata": {
    "colab": {
      "provenance": [],
      "gpuType": "T4",
      "toc_visible": true,
      "mount_file_id": "1pKHgzRmq_ytO4QtR0KEDw-om6rM1qOaA",
      "authorship_tag": "ABX9TyPax8E8Ex/GsvDQbaCS9iCK",
      "include_colab_link": true
    },
    "kernelspec": {
      "name": "python3",
      "display_name": "Python 3"
    },
    "language_info": {
      "name": "python"
    },
    "accelerator": "GPU"
  },
  "cells": [
    {
      "cell_type": "markdown",
      "metadata": {
        "id": "view-in-github",
        "colab_type": "text"
      },
      "source": [
        "<a href=\"https://colab.research.google.com/github/PratyaoySarkar/Fake_Currency_Detection/blob/main/ResNet50_Adam.ipynb\" target=\"_parent\"><img src=\"https://colab.research.google.com/assets/colab-badge.svg\" alt=\"Open In Colab\"/></a>"
      ]
    },
    {
      "cell_type": "code",
      "execution_count": null,
      "metadata": {
        "id": "SxpTQLVsSqDW"
      },
      "outputs": [],
      "source": []
    },
    {
      "cell_type": "code",
      "source": [
        "from tensorflow.keras.applications.resnet50 import ResNet50, preprocess_input\n",
        "from tensorflow.keras.preprocessing.image import ImageDataGenerator, load_img, img_to_array\n",
        "from tensorflow.keras.layers import Dense, Activation, Flatten, Dropout\n",
        "from tensorflow.keras.models import Sequential, Model, load_model\n",
        "from tensorflow.keras.optimizers import Adam\n",
        "from tensorflow.keras.callbacks import ModelCheckpoint, EarlyStopping, ReduceLROnPlateau\n",
        "from sklearn.metrics import classification_report, accuracy_score\n",
        "import numpy as np\n",
        "import matplotlib.pyplot as plt"
      ],
      "metadata": {
        "id": "XnbqQcrIUjvd"
      },
      "execution_count": 1,
      "outputs": []
    },
    {
      "cell_type": "code",
      "source": [
        "height = 300\n",
        "width = 300\n",
        "\n",
        "base_model = ResNet50(weights='imagenet', include_top=False, input_shape=(height, width, 3))"
      ],
      "metadata": {
        "colab": {
          "base_uri": "https://localhost:8080/"
        },
        "id": "leTcU9B-U3DP",
        "outputId": "3b352135-4edd-4ecc-cd0f-37dfdc4d1cc7"
      },
      "execution_count": 2,
      "outputs": [
        {
          "output_type": "stream",
          "name": "stdout",
          "text": [
            "Downloading data from https://storage.googleapis.com/tensorflow/keras-applications/resnet/resnet50_weights_tf_dim_ordering_tf_kernels_notop.h5\n",
            "\u001b[1m94765736/94765736\u001b[0m \u001b[32m━━━━━━━━━━━━━━━━━━━━\u001b[0m\u001b[37m\u001b[0m \u001b[1m0s\u001b[0m 0us/step\n"
          ]
        }
      ]
    },
    {
      "cell_type": "code",
      "source": [
        "from google.colab import drive\n",
        "drive.mount('/content/drive')\n"
      ],
      "metadata": {
        "colab": {
          "base_uri": "https://localhost:8080/"
        },
        "id": "wTHezGafml8k",
        "outputId": "1a0c7c0f-1f93-4db7-cf32-b485bbb25283"
      },
      "execution_count": 7,
      "outputs": [
        {
          "output_type": "stream",
          "name": "stdout",
          "text": [
            "Drive already mounted at /content/drive; to attempt to forcibly remount, call drive.mount(\"/content/drive\", force_remount=True).\n"
          ]
        }
      ]
    },
    {
      "cell_type": "code",
      "source": [
        "train_dir = \"/content/drive/MyDrive/dataset/training\"\n",
        "validation_dir = \"/content/drive/MyDrive/dataset/validation\"\n",
        "\n",
        "batch_size = 8"
      ],
      "metadata": {
        "id": "OeqrTSbwVoad"
      },
      "execution_count": 10,
      "outputs": []
    },
    {
      "cell_type": "code",
      "source": [
        "train_datagen = ImageDataGenerator(preprocessing_function=preprocess_input,\n",
        " rotation_range=90,\n",
        " horizontal_flip=True,\n",
        " vertical_flip=True)\n",
        "\n",
        "train_generator = train_datagen.flow_from_directory(train_dir,\n",
        " target_size=(height, width),\n",
        " batch_size=batch_size)\n",
        "\n",
        "validation_datagen = ImageDataGenerator(preprocessing_function=preprocess_input,\n",
        " rotation_range=90,\n",
        " horizontal_flip=True,\n",
        " vertical_flip=True)\n",
        "\n",
        "validation_generator = validation_datagen.flow_from_directory(validation_dir,\n",
        " target_size=(height, width),\n",
        " batch_size=batch_size,\n",
        " class_mode='categorical',\n",
        " shuffle=False)"
      ],
      "metadata": {
        "id": "gFBiumQUX1Ga",
        "colab": {
          "base_uri": "https://localhost:8080/"
        },
        "outputId": "3a739b6b-e2a1-4cf2-9498-55291645e801"
      },
      "execution_count": 11,
      "outputs": [
        {
          "output_type": "stream",
          "name": "stdout",
          "text": [
            "Found 2813 images belonging to 2 classes.\n",
            "Found 592 images belonging to 2 classes.\n"
          ]
        }
      ]
    },
    {
      "cell_type": "code",
      "source": [
        "def build_finetune_model(base_model, dropout, fc_layers, num_classes):\n",
        "    for layer in base_model.layers:\n",
        "        layer.trainable = False\n",
        "    x = base_model.output\n",
        "    x = Flatten()(x)\n",
        "    for fc in fc_layers:\n",
        "        x = Dense(fc, activation='relu')(x)\n",
        "        x = Dropout(dropout)(x)\n",
        "    predictions = Dense(num_classes, activation='softmax')(x)\n",
        "    finetune_model = Model(inputs=base_model.input, outputs=predictions)\n",
        "\n",
        "    return finetune_model\n",
        "\n",
        "class_list = ['Real','Fake'] #the labels of our data\n",
        "FC_Layers = [1024, 1024]\n",
        "dropout = 0.5\n",
        "\n",
        "finetune_model = build_finetune_model(base_model, dropout=dropout, fc_layers=FC_Layers, num_classes=len(class_list))"
      ],
      "metadata": {
        "id": "ftf1NCxvX3u-"
      },
      "execution_count": 12,
      "outputs": []
    },
    {
      "cell_type": "code",
      "source": [
        "num_epochs = 20\n",
        "num_train_images = train_generator.samples\n",
        "num_validation_images = validation_generator.samples"
      ],
      "metadata": {
        "id": "Sb8k7ZGSX7jN"
      },
      "execution_count": 13,
      "outputs": []
    },
    {
      "cell_type": "code",
      "source": [
        "#Define callbacks\n",
        "checkpoint = ModelCheckpoint(\"ResNet50_Adam.h5\", monitor='val_accuracy', verbose=1, save_best_only=True, save_weights_only=False, mode='auto')\n",
        "\n",
        "#Early stopping to prevent overfitting\n",
        "early = EarlyStopping(monitor='val_accuracy', min_delta=0, patience=10, verbose=1, mode='auto')\n",
        "\n",
        "#ReduceLROnPlateau to adjust learning rate when a metric has stopped improving\n",
        "lr_scheduler = ReduceLROnPlateau(monitor='val_accuracy',\n",
        "                factor=0.2,\n",
        "                patience=5,\n",
        "                verbose=1,\n",
        "                min_lr=1e-6) # Lower bound on the learning rate.\n",
        "\n",
        "# Compile the model with Adam optimizer\n",
        "optimizer = Adam(learning_rate=0.001)\n",
        "finetune_model.compile(loss=\"categorical_crossentropy\", optimizer=optimizer, metrics=['accuracy'])\n",
        "\n",
        "# Train the model\n",
        "history = finetune_model.fit(\n",
        "    train_generator,\n",
        "    steps_per_epoch=num_train_images // batch_size,\n",
        "    epochs=num_epochs,\n",
        "    validation_data=validation_generator,\n",
        "    validation_steps=num_validation_images // batch_size,\n",
        "    callbacks=[checkpoint, early, lr_scheduler]\n",
        ")"
      ],
      "metadata": {
        "id": "Wt2zck5CX9gB",
        "colab": {
          "base_uri": "https://localhost:8080/"
        },
        "outputId": "5a32b743-f2b3-4217-84b2-4da19a1ee713"
      },
      "execution_count": 14,
      "outputs": [
        {
          "output_type": "stream",
          "name": "stderr",
          "text": [
            "/usr/local/lib/python3.12/dist-packages/keras/src/trainers/data_adapters/py_dataset_adapter.py:121: UserWarning: Your `PyDataset` class should call `super().__init__(**kwargs)` in its constructor. `**kwargs` can include `workers`, `use_multiprocessing`, `max_queue_size`. Do not pass these arguments to `fit()`, as they will be ignored.\n",
            "  self._warn_if_super_not_called()\n"
          ]
        },
        {
          "output_type": "stream",
          "name": "stdout",
          "text": [
            "Epoch 1/20\n",
            "\u001b[1m351/351\u001b[0m \u001b[32m━━━━━━━━━━━━━━━━━━━━\u001b[0m\u001b[37m\u001b[0m \u001b[1m0s\u001b[0m 2s/step - accuracy: 0.6714 - loss: 65.2256\n",
            "Epoch 1: val_accuracy improved from -inf to 0.78547, saving model to ResNet50_Adam.h5\n"
          ]
        },
        {
          "output_type": "stream",
          "name": "stderr",
          "text": [
            "WARNING:absl:You are saving your model as an HDF5 file via `model.save()` or `keras.saving.save_model(model)`. This file format is considered legacy. We recommend using instead the native Keras format, e.g. `model.save('my_model.keras')` or `keras.saving.save_model(model, 'my_model.keras')`. \n"
          ]
        },
        {
          "output_type": "stream",
          "name": "stdout",
          "text": [
            "\b\b\b\b\b\b\b\b\b\b\b\b\b\b\b\b\b\b\b\b\b\b\b\b\b\b\b\b\b\b\b\b\b\b\b\b\b\b\b\b\b\b\b\b\b\b\b\b\b\b\b\b\b\b\b\b\b\b\b\b\b\b\b\b\b\b\b\b\b\b\b\b\b\b\r\u001b[1m351/351\u001b[0m \u001b[32m━━━━━━━━━━━━━━━━━━━━\u001b[0m\u001b[37m\u001b[0m \u001b[1m919s\u001b[0m 3s/step - accuracy: 0.6716 - loss: 65.1481 - val_accuracy: 0.7855 - val_loss: 6.4214 - learning_rate: 0.0010\n",
            "Epoch 2/20\n",
            "\u001b[1m  1/351\u001b[0m \u001b[37m━━━━━━━━━━━━━━━━━━━━\u001b[0m \u001b[1m36s\u001b[0m 103ms/step - accuracy: 0.6250 - loss: 10.5318"
          ]
        },
        {
          "output_type": "stream",
          "name": "stderr",
          "text": [
            "/usr/local/lib/python3.12/dist-packages/keras/src/trainers/epoch_iterator.py:116: UserWarning: Your input ran out of data; interrupting training. Make sure that your dataset or generator can generate at least `steps_per_epoch * epochs` batches. You may need to use the `.repeat()` function when building your dataset.\n",
            "  self._interrupted_warning()\n"
          ]
        },
        {
          "output_type": "stream",
          "name": "stdout",
          "text": [
            "\n",
            "Epoch 2: val_accuracy did not improve from 0.78547\n",
            "\u001b[1m351/351\u001b[0m \u001b[32m━━━━━━━━━━━━━━━━━━━━\u001b[0m\u001b[37m\u001b[0m \u001b[1m17s\u001b[0m 48ms/step - accuracy: 0.6250 - loss: 10.5318 - val_accuracy: 0.7753 - val_loss: 7.3716 - learning_rate: 0.0010\n",
            "Epoch 3/20\n",
            "\u001b[1m351/351\u001b[0m \u001b[32m━━━━━━━━━━━━━━━━━━━━\u001b[0m\u001b[37m\u001b[0m \u001b[1m0s\u001b[0m 230ms/step - accuracy: 0.8071 - loss: 6.0769\n",
            "Epoch 3: val_accuracy improved from 0.78547 to 0.83615, saving model to ResNet50_Adam.h5\n"
          ]
        },
        {
          "output_type": "stream",
          "name": "stderr",
          "text": [
            "WARNING:absl:You are saving your model as an HDF5 file via `model.save()` or `keras.saving.save_model(model)`. This file format is considered legacy. We recommend using instead the native Keras format, e.g. `model.save('my_model.keras')` or `keras.saving.save_model(model, 'my_model.keras')`. \n"
          ]
        },
        {
          "output_type": "stream",
          "name": "stdout",
          "text": [
            "\b\b\b\b\b\b\b\b\b\b\b\b\b\b\b\b\b\b\b\b\b\b\b\b\b\b\b\b\b\b\b\b\b\b\b\b\b\b\b\b\b\b\b\b\b\b\b\b\b\b\b\b\b\b\b\b\b\b\b\b\b\b\b\b\b\b\b\b\b\b\b\b\b\b\b\b\r\u001b[1m351/351\u001b[0m \u001b[32m━━━━━━━━━━━━━━━━━━━━\u001b[0m\u001b[37m\u001b[0m \u001b[1m184s\u001b[0m 374ms/step - accuracy: 0.8071 - loss: 6.0733 - val_accuracy: 0.8361 - val_loss: 1.7866 - learning_rate: 0.0010\n",
            "Epoch 4/20\n",
            "\u001b[1m  1/351\u001b[0m \u001b[37m━━━━━━━━━━━━━━━━━━━━\u001b[0m \u001b[1m36s\u001b[0m 103ms/step - accuracy: 0.8750 - loss: 0.2315\n",
            "Epoch 4: val_accuracy improved from 0.83615 to 0.85642, saving model to ResNet50_Adam.h5\n"
          ]
        },
        {
          "output_type": "stream",
          "name": "stderr",
          "text": [
            "WARNING:absl:You are saving your model as an HDF5 file via `model.save()` or `keras.saving.save_model(model)`. This file format is considered legacy. We recommend using instead the native Keras format, e.g. `model.save('my_model.keras')` or `keras.saving.save_model(model, 'my_model.keras')`. \n"
          ]
        },
        {
          "output_type": "stream",
          "name": "stdout",
          "text": [
            "\b\b\b\b\b\b\b\b\b\b\b\b\b\b\b\b\b\b\b\b\b\b\b\b\b\b\b\b\b\b\b\b\b\b\b\b\b\b\b\b\b\b\b\b\b\b\b\b\b\b\b\b\b\b\b\b\b\b\b\b\b\b\b\b\b\b\b\b\b\b\b\b\b\b\b\b\b\r\u001b[1m351/351\u001b[0m \u001b[32m━━━━━━━━━━━━━━━━━━━━\u001b[0m\u001b[37m\u001b[0m \u001b[1m45s\u001b[0m 127ms/step - accuracy: 0.8750 - loss: 0.2315 - val_accuracy: 0.8564 - val_loss: 1.5478 - learning_rate: 0.0010\n",
            "Epoch 5/20\n",
            "\u001b[1m351/351\u001b[0m \u001b[32m━━━━━━━━━━━━━━━━━━━━\u001b[0m\u001b[37m\u001b[0m \u001b[1m0s\u001b[0m 223ms/step - accuracy: 0.8177 - loss: 1.5563\n",
            "Epoch 5: val_accuracy improved from 0.85642 to 0.85811, saving model to ResNet50_Adam.h5\n"
          ]
        },
        {
          "output_type": "stream",
          "name": "stderr",
          "text": [
            "WARNING:absl:You are saving your model as an HDF5 file via `model.save()` or `keras.saving.save_model(model)`. This file format is considered legacy. We recommend using instead the native Keras format, e.g. `model.save('my_model.keras')` or `keras.saving.save_model(model, 'my_model.keras')`. \n"
          ]
        },
        {
          "output_type": "stream",
          "name": "stdout",
          "text": [
            "\b\b\b\b\b\b\b\b\b\b\b\b\b\b\b\b\b\b\b\b\b\b\b\b\b\b\b\b\b\b\b\b\b\b\b\b\b\b\b\b\b\b\b\b\b\b\b\b\b\b\b\b\b\b\b\b\b\b\b\b\b\b\b\b\b\b\b\b\b\b\b\b\b\b\b\b\r\u001b[1m351/351\u001b[0m \u001b[32m━━━━━━━━━━━━━━━━━━━━\u001b[0m\u001b[37m\u001b[0m \u001b[1m127s\u001b[0m 361ms/step - accuracy: 0.8177 - loss: 1.5552 - val_accuracy: 0.8581 - val_loss: 0.8338 - learning_rate: 0.0010\n",
            "Epoch 6/20\n",
            "\u001b[1m  1/351\u001b[0m \u001b[37m━━━━━━━━━━━━━━━━━━━━\u001b[0m \u001b[1m35s\u001b[0m 102ms/step - accuracy: 0.7500 - loss: 0.5302\n",
            "Epoch 6: val_accuracy did not improve from 0.85811\n",
            "\u001b[1m351/351\u001b[0m \u001b[32m━━━━━━━━━━━━━━━━━━━━\u001b[0m\u001b[37m\u001b[0m \u001b[1m16s\u001b[0m 45ms/step - accuracy: 0.7500 - loss: 0.5302 - val_accuracy: 0.8581 - val_loss: 0.7144 - learning_rate: 0.0010\n",
            "Epoch 7/20\n",
            "\u001b[1m351/351\u001b[0m \u001b[32m━━━━━━━━━━━━━━━━━━━━\u001b[0m\u001b[37m\u001b[0m \u001b[1m0s\u001b[0m 220ms/step - accuracy: 0.8358 - loss: 0.6324\n",
            "Epoch 7: val_accuracy did not improve from 0.85811\n",
            "\u001b[1m351/351\u001b[0m \u001b[32m━━━━━━━━━━━━━━━━━━━━\u001b[0m\u001b[37m\u001b[0m \u001b[1m153s\u001b[0m 266ms/step - accuracy: 0.8358 - loss: 0.6327 - val_accuracy: 0.8209 - val_loss: 1.3055 - learning_rate: 0.0010\n",
            "Epoch 8/20\n",
            "\u001b[1m  1/351\u001b[0m \u001b[37m━━━━━━━━━━━━━━━━━━━━\u001b[0m \u001b[1m33s\u001b[0m 96ms/step - accuracy: 0.6250 - loss: 0.4612\n",
            "Epoch 8: val_accuracy did not improve from 0.85811\n",
            "\u001b[1m351/351\u001b[0m \u001b[32m━━━━━━━━━━━━━━━━━━━━\u001b[0m\u001b[37m\u001b[0m \u001b[1m16s\u001b[0m 45ms/step - accuracy: 0.6250 - loss: 0.4612 - val_accuracy: 0.8142 - val_loss: 1.3233 - learning_rate: 0.0010\n",
            "Epoch 9/20\n",
            "\u001b[1m351/351\u001b[0m \u001b[32m━━━━━━━━━━━━━━━━━━━━\u001b[0m\u001b[37m\u001b[0m \u001b[1m0s\u001b[0m 222ms/step - accuracy: 0.8066 - loss: 0.7631\n",
            "Epoch 9: val_accuracy did not improve from 0.85811\n",
            "\u001b[1m351/351\u001b[0m \u001b[32m━━━━━━━━━━━━━━━━━━━━\u001b[0m\u001b[37m\u001b[0m \u001b[1m94s\u001b[0m 268ms/step - accuracy: 0.8065 - loss: 0.7635 - val_accuracy: 0.8294 - val_loss: 1.8802 - learning_rate: 0.0010\n",
            "Epoch 10/20\n",
            "\u001b[1m  1/351\u001b[0m \u001b[37m━━━━━━━━━━━━━━━━━━━━\u001b[0m \u001b[1m35s\u001b[0m 101ms/step - accuracy: 0.8750 - loss: 1.1294\n",
            "Epoch 10: val_accuracy did not improve from 0.85811\n",
            "\n",
            "Epoch 10: ReduceLROnPlateau reducing learning rate to 0.00020000000949949026.\n",
            "\u001b[1m351/351\u001b[0m \u001b[32m━━━━━━━━━━━━━━━━━━━━\u001b[0m\u001b[37m\u001b[0m \u001b[1m21s\u001b[0m 59ms/step - accuracy: 0.8750 - loss: 1.1294 - val_accuracy: 0.8395 - val_loss: 1.7189 - learning_rate: 0.0010\n",
            "Epoch 11/20\n",
            "\u001b[1m351/351\u001b[0m \u001b[32m━━━━━━━━━━━━━━━━━━━━\u001b[0m\u001b[37m\u001b[0m \u001b[1m0s\u001b[0m 223ms/step - accuracy: 0.7453 - loss: 0.6280\n",
            "Epoch 11: val_accuracy improved from 0.85811 to 0.85980, saving model to ResNet50_Adam.h5\n"
          ]
        },
        {
          "output_type": "stream",
          "name": "stderr",
          "text": [
            "WARNING:absl:You are saving your model as an HDF5 file via `model.save()` or `keras.saving.save_model(model)`. This file format is considered legacy. We recommend using instead the native Keras format, e.g. `model.save('my_model.keras')` or `keras.saving.save_model(model, 'my_model.keras')`. \n"
          ]
        },
        {
          "output_type": "stream",
          "name": "stdout",
          "text": [
            "\b\b\b\b\b\b\b\b\b\b\b\b\b\b\b\b\b\b\b\b\b\b\b\b\b\b\b\b\b\b\b\b\b\b\b\b\b\b\b\b\b\b\b\b\b\b\b\b\b\b\b\b\b\b\b\b\b\b\b\b\b\b\b\b\b\b\b\b\b\b\b\b\b\b\b\b\r\u001b[1m351/351\u001b[0m \u001b[32m━━━━━━━━━━━━━━━━━━━━\u001b[0m\u001b[37m\u001b[0m \u001b[1m119s\u001b[0m 339ms/step - accuracy: 0.7454 - loss: 0.6279 - val_accuracy: 0.8598 - val_loss: 0.5433 - learning_rate: 2.0000e-04\n",
            "Epoch 12/20\n",
            "\u001b[1m  1/351\u001b[0m \u001b[37m━━━━━━━━━━━━━━━━━━━━\u001b[0m \u001b[1m35s\u001b[0m 102ms/step - accuracy: 0.8750 - loss: 0.4825\n",
            "Epoch 12: val_accuracy did not improve from 0.85980\n",
            "\u001b[1m351/351\u001b[0m \u001b[32m━━━━━━━━━━━━━━━━━━━━\u001b[0m\u001b[37m\u001b[0m \u001b[1m16s\u001b[0m 46ms/step - accuracy: 0.8750 - loss: 0.4825 - val_accuracy: 0.8530 - val_loss: 0.7366 - learning_rate: 2.0000e-04\n",
            "Epoch 13/20\n",
            "\u001b[1m351/351\u001b[0m \u001b[32m━━━━━━━━━━━━━━━━━━━━\u001b[0m\u001b[37m\u001b[0m \u001b[1m0s\u001b[0m 219ms/step - accuracy: 0.7737 - loss: 0.4509\n",
            "Epoch 13: val_accuracy did not improve from 0.85980\n",
            "\u001b[1m351/351\u001b[0m \u001b[32m━━━━━━━━━━━━━━━━━━━━\u001b[0m\u001b[37m\u001b[0m \u001b[1m100s\u001b[0m 266ms/step - accuracy: 0.7737 - loss: 0.4510 - val_accuracy: 0.8547 - val_loss: 0.4605 - learning_rate: 2.0000e-04\n",
            "Epoch 14/20\n",
            "\u001b[1m  1/351\u001b[0m \u001b[37m━━━━━━━━━━━━━━━━━━━━\u001b[0m \u001b[1m35s\u001b[0m 101ms/step - accuracy: 0.7500 - loss: 0.5566\n",
            "Epoch 14: val_accuracy did not improve from 0.85980\n",
            "\u001b[1m351/351\u001b[0m \u001b[32m━━━━━━━━━━━━━━━━━━━━\u001b[0m\u001b[37m\u001b[0m \u001b[1m16s\u001b[0m 45ms/step - accuracy: 0.7500 - loss: 0.5566 - val_accuracy: 0.8480 - val_loss: 0.4354 - learning_rate: 2.0000e-04\n",
            "Epoch 15/20\n",
            "\u001b[1m351/351\u001b[0m \u001b[32m━━━━━━━━━━━━━━━━━━━━\u001b[0m\u001b[37m\u001b[0m \u001b[1m0s\u001b[0m 221ms/step - accuracy: 0.7976 - loss: 0.3872\n",
            "Epoch 15: val_accuracy improved from 0.85980 to 0.86149, saving model to ResNet50_Adam.h5\n"
          ]
        },
        {
          "output_type": "stream",
          "name": "stderr",
          "text": [
            "WARNING:absl:You are saving your model as an HDF5 file via `model.save()` or `keras.saving.save_model(model)`. This file format is considered legacy. We recommend using instead the native Keras format, e.g. `model.save('my_model.keras')` or `keras.saving.save_model(model, 'my_model.keras')`. \n"
          ]
        },
        {
          "output_type": "stream",
          "name": "stdout",
          "text": [
            "\b\b\b\b\b\b\b\b\b\b\b\b\b\b\b\b\b\b\b\b\b\b\b\b\b\b\b\b\b\b\b\b\b\b\b\b\b\b\b\b\b\b\b\b\b\b\b\b\b\b\b\b\b\b\b\b\b\b\b\b\b\b\b\b\b\b\b\b\b\b\b\b\b\b\b\b\r\u001b[1m351/351\u001b[0m \u001b[32m━━━━━━━━━━━━━━━━━━━━\u001b[0m\u001b[37m\u001b[0m \u001b[1m121s\u001b[0m 346ms/step - accuracy: 0.7976 - loss: 0.3873 - val_accuracy: 0.8615 - val_loss: 0.5429 - learning_rate: 2.0000e-04\n",
            "Epoch 16/20\n",
            "\u001b[1m  1/351\u001b[0m \u001b[37m━━━━━━━━━━━━━━━━━━━━\u001b[0m \u001b[1m36s\u001b[0m 103ms/step - accuracy: 0.6250 - loss: 0.4406\n",
            "Epoch 16: val_accuracy improved from 0.86149 to 0.86824, saving model to ResNet50_Adam.h5\n"
          ]
        },
        {
          "output_type": "stream",
          "name": "stderr",
          "text": [
            "WARNING:absl:You are saving your model as an HDF5 file via `model.save()` or `keras.saving.save_model(model)`. This file format is considered legacy. We recommend using instead the native Keras format, e.g. `model.save('my_model.keras')` or `keras.saving.save_model(model, 'my_model.keras')`. \n"
          ]
        },
        {
          "output_type": "stream",
          "name": "stdout",
          "text": [
            "\b\b\b\b\b\b\b\b\b\b\b\b\b\b\b\b\b\b\b\b\b\b\b\b\b\b\b\b\b\b\b\b\b\b\b\b\b\b\b\b\b\b\b\b\b\b\b\b\b\b\b\b\b\b\b\b\b\b\b\b\b\b\b\b\b\b\b\b\b\b\b\b\b\b\b\b\b\r\u001b[1m351/351\u001b[0m \u001b[32m━━━━━━━━━━━━━━━━━━━━\u001b[0m\u001b[37m\u001b[0m \u001b[1m44s\u001b[0m 125ms/step - accuracy: 0.6250 - loss: 0.4406 - val_accuracy: 0.8682 - val_loss: 0.5406 - learning_rate: 2.0000e-04\n",
            "Epoch 17/20\n",
            "\u001b[1m351/351\u001b[0m \u001b[32m━━━━━━━━━━━━━━━━━━━━\u001b[0m\u001b[37m\u001b[0m \u001b[1m0s\u001b[0m 220ms/step - accuracy: 0.8049 - loss: 0.4169\n",
            "Epoch 17: val_accuracy improved from 0.86824 to 0.87500, saving model to ResNet50_Adam.h5\n"
          ]
        },
        {
          "output_type": "stream",
          "name": "stderr",
          "text": [
            "WARNING:absl:You are saving your model as an HDF5 file via `model.save()` or `keras.saving.save_model(model)`. This file format is considered legacy. We recommend using instead the native Keras format, e.g. `model.save('my_model.keras')` or `keras.saving.save_model(model, 'my_model.keras')`. \n"
          ]
        },
        {
          "output_type": "stream",
          "name": "stdout",
          "text": [
            "\b\b\b\b\b\b\b\b\b\b\b\b\b\b\b\b\b\b\b\b\b\b\b\b\b\b\b\b\b\b\b\b\b\b\b\b\b\b\b\b\b\b\b\b\b\b\b\b\b\b\b\b\b\b\b\b\b\b\b\b\b\b\b\b\b\b\b\b\b\b\b\b\b\b\b\b\r\u001b[1m351/351\u001b[0m \u001b[32m━━━━━━━━━━━━━━━━━━━━\u001b[0m\u001b[37m\u001b[0m \u001b[1m123s\u001b[0m 348ms/step - accuracy: 0.8049 - loss: 0.4169 - val_accuracy: 0.8750 - val_loss: 0.5478 - learning_rate: 2.0000e-04\n",
            "Epoch 18/20\n",
            "\u001b[1m  1/351\u001b[0m \u001b[37m━━━━━━━━━━━━━━━━━━━━\u001b[0m \u001b[1m35s\u001b[0m 102ms/step - accuracy: 0.7500 - loss: 0.3504\n",
            "Epoch 18: val_accuracy improved from 0.87500 to 0.88345, saving model to ResNet50_Adam.h5\n"
          ]
        },
        {
          "output_type": "stream",
          "name": "stderr",
          "text": [
            "WARNING:absl:You are saving your model as an HDF5 file via `model.save()` or `keras.saving.save_model(model)`. This file format is considered legacy. We recommend using instead the native Keras format, e.g. `model.save('my_model.keras')` or `keras.saving.save_model(model, 'my_model.keras')`. \n"
          ]
        },
        {
          "output_type": "stream",
          "name": "stdout",
          "text": [
            "\b\b\b\b\b\b\b\b\b\b\b\b\b\b\b\b\b\b\b\b\b\b\b\b\b\b\b\b\b\b\b\b\b\b\b\b\b\b\b\b\b\b\b\b\b\b\b\b\b\b\b\b\b\b\b\b\b\b\b\b\b\b\b\b\b\b\b\b\b\b\b\b\b\b\b\b\b\r\u001b[1m351/351\u001b[0m \u001b[32m━━━━━━━━━━━━━━━━━━━━\u001b[0m\u001b[37m\u001b[0m \u001b[1m45s\u001b[0m 129ms/step - accuracy: 0.7500 - loss: 0.3504 - val_accuracy: 0.8834 - val_loss: 0.5985 - learning_rate: 2.0000e-04\n",
            "Epoch 19/20\n",
            "\u001b[1m351/351\u001b[0m \u001b[32m━━━━━━━━━━━━━━━━━━━━\u001b[0m\u001b[37m\u001b[0m \u001b[1m0s\u001b[0m 217ms/step - accuracy: 0.8114 - loss: 0.3806\n",
            "Epoch 19: val_accuracy did not improve from 0.88345\n",
            "\u001b[1m351/351\u001b[0m \u001b[32m━━━━━━━━━━━━━━━━━━━━\u001b[0m\u001b[37m\u001b[0m \u001b[1m93s\u001b[0m 266ms/step - accuracy: 0.8114 - loss: 0.3807 - val_accuracy: 0.8818 - val_loss: 0.5341 - learning_rate: 2.0000e-04\n",
            "Epoch 20/20\n",
            "\u001b[1m  1/351\u001b[0m \u001b[37m━━━━━━━━━━━━━━━━━━━━\u001b[0m \u001b[1m35s\u001b[0m 102ms/step - accuracy: 0.8750 - loss: 0.3564\n",
            "Epoch 20: val_accuracy improved from 0.88345 to 0.89527, saving model to ResNet50_Adam.h5\n"
          ]
        },
        {
          "output_type": "stream",
          "name": "stderr",
          "text": [
            "WARNING:absl:You are saving your model as an HDF5 file via `model.save()` or `keras.saving.save_model(model)`. This file format is considered legacy. We recommend using instead the native Keras format, e.g. `model.save('my_model.keras')` or `keras.saving.save_model(model, 'my_model.keras')`. \n"
          ]
        },
        {
          "output_type": "stream",
          "name": "stdout",
          "text": [
            "\b\b\b\b\b\b\b\b\b\b\b\b\b\b\b\b\b\b\b\b\b\b\b\b\b\b\b\b\b\b\b\b\b\b\b\b\b\b\b\b\b\b\b\b\b\b\b\b\b\b\b\b\b\b\b\b\b\b\b\b\b\b\b\b\b\b\b\b\b\b\b\b\b\b\b\b\b\r\u001b[1m351/351\u001b[0m \u001b[32m━━━━━━━━━━━━━━━━━━━━\u001b[0m\u001b[37m\u001b[0m \u001b[1m49s\u001b[0m 139ms/step - accuracy: 0.8750 - loss: 0.3564 - val_accuracy: 0.8953 - val_loss: 0.3996 - learning_rate: 2.0000e-04\n"
          ]
        }
      ]
    },
    {
      "cell_type": "code",
      "source": [
        "model = load_model(\"ResNet50_Adam.h5\")\n",
        "true_labels = validation_generator.classes\n",
        "class_labels = list(validation_generator.class_indices.keys())\n",
        "num_validation_samples = len(validation_generator.filenames)\n",
        "steps = int(np.ceil(num_validation_samples / batch_size))\n",
        "predictions = model.predict(validation_generator, steps=steps, verbose=1)\n",
        "predicted_labels = np.argmax(predictions, axis=1)\n",
        "print(\"--- Final Model Evaluation Report ---\")\n",
        "accuracy = accuracy_score(true_labels, predicted_labels)\n",
        "print(f\"Accuracy: {accuracy:.4f}\")\n",
        "print(\"Classification Report:\")\n",
        "print(classification_report(true_labels, predicted_labels, target_names=class_labels))"
      ],
      "metadata": {
        "colab": {
          "base_uri": "https://localhost:8080/"
        },
        "id": "IU-UrsyryLH4",
        "outputId": "59e2cd56-2e63-4c76-b33c-34d1510ee118"
      },
      "execution_count": 15,
      "outputs": [
        {
          "output_type": "stream",
          "name": "stderr",
          "text": [
            "WARNING:absl:Compiled the loaded model, but the compiled metrics have yet to be built. `model.compile_metrics` will be empty until you train or evaluate the model.\n"
          ]
        },
        {
          "output_type": "stream",
          "name": "stdout",
          "text": [
            "\u001b[1m74/74\u001b[0m \u001b[32m━━━━━━━━━━━━━━━━━━━━\u001b[0m\u001b[37m\u001b[0m \u001b[1m21s\u001b[0m 234ms/step\n",
            "--- Final Model Evaluation Report ---\n",
            "Accuracy: 0.8834\n",
            "Classification Report:\n",
            "              precision    recall  f1-score   support\n",
            "\n",
            "        fake       0.89      0.87      0.88       296\n",
            "        real       0.87      0.90      0.88       296\n",
            "\n",
            "    accuracy                           0.88       592\n",
            "   macro avg       0.88      0.88      0.88       592\n",
            "weighted avg       0.88      0.88      0.88       592\n",
            "\n"
          ]
        }
      ]
    },
    {
      "cell_type": "code",
      "source": [
        "train_acc = history.history['accuracy']\n",
        "val_acc = history.history['val_accuracy']\n",
        "\n",
        "# Printing the final accuracy values\n",
        "print(f\"Final Training Accuracy: {train_acc[-1]:.4f}\")\n",
        "print(f\"Final Validation Accuracy: {val_acc[-1]:.4f}\")"
      ],
      "metadata": {
        "colab": {
          "base_uri": "https://localhost:8080/"
        },
        "id": "srQP0012ziwz",
        "outputId": "9f14ca19-85c0-4819-f985-3ab59ef89f58"
      },
      "execution_count": 16,
      "outputs": [
        {
          "output_type": "stream",
          "name": "stdout",
          "text": [
            "Final Training Accuracy: 0.8750\n",
            "Final Validation Accuracy: 0.8953\n"
          ]
        }
      ]
    },
    {
      "cell_type": "code",
      "source": [
        "plt.figure(figsize=(12, 6))\n",
        "plt.plot(train_acc, label='Training Accuracy', color='blue', marker='o')\n",
        "plt.plot(val_acc, label='Validation Accuracy', color='orange', marker='x')\n",
        "\n",
        "# Adding titles and labels for clarity\n",
        "plt.title('Training and Validation Accuracy Over Epochs', fontsize=16)\n",
        "plt.xlabel('Epoch', fontsize=12)\n",
        "plt.ylabel('Accuracy', fontsize=12)\n",
        "plt.legend(loc='best')\n",
        "plt.grid(True)\n",
        "\n",
        "# Display the plot\n",
        "plt.show()"
      ],
      "metadata": {
        "colab": {
          "base_uri": "https://localhost:8080/",
          "height": 570
        },
        "id": "TEoiXblb26eH",
        "outputId": "73b50d29-5389-40d9-a8e7-f28227a1ffd4"
      },
      "execution_count": 17,
      "outputs": [
        {
          "output_type": "display_data",
          "data": {
            "text/plain": [
              "<Figure size 1200x600 with 1 Axes>"
            ],
            "image/png": "[encoded data removed]"
          },
          "metadata": {}
        }
      ]
    }
  ]
}