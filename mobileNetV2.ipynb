{
 "cells": [
  {
   "cell_type": "markdown",
   "id": "2e268609",
   "metadata": {},
   "source": [
    "# Updation of previous model with Adaptive Moment Estimation (Adam) optimizer"
   ]
  },
  {
   "cell_type": "code",
   "execution_count": 1,
   "id": "6e59582b",
   "metadata": {},
   "outputs": [],
   "source": [
    "from tensorflow.keras.applications.mobilenet_v2 import MobileNetV2, preprocess_input\n",
    "from tensorflow.keras.preprocessing.image import ImageDataGenerator, load_img, img_to_array\n",
    "from tensorflow.keras.layers import Dense, Activation, Flatten, Dropout\n",
    "from tensorflow.keras.models import Sequential, Model, load_model\n",
    "from tensorflow.keras.optimizers import Adam # Import Adam\n",
    "from tensorflow.keras.callbacks import ModelCheckpoint, EarlyStopping, ReduceLROnPlateau # Import ReduceLROnPlateau\n",
    "import numpy as np\n",
    "import matplotlib.pyplot as plt"
   ]
  },
  {
   "cell_type": "code",
   "execution_count": 2,
   "id": "e2ebc871",
   "metadata": {},
   "outputs": [],
   "source": [
    "# MobileNetV2 is commonly trained on 224x224 images\n",
    "height = 224\n",
    "width = 224\n",
    "\n",
    "base_model = MobileNetV2(weights='imagenet', include_top=False, input_shape=(height, width, 3))"
   ]
  },
  {
   "cell_type": "code",
   "execution_count": 4,
   "id": "9e448644",
   "metadata": {},
   "outputs": [],
   "source": [
    "# --- Data Loading and Augmentation ---\n",
    "train_dir = \"dataset/training\"\n",
    "validation_dir = \"dataset/validation\"\n",
    "batch_size = 8"
   ]
  },
  {
   "cell_type": "code",
   "execution_count": 5,
   "id": "467a18b7",
   "metadata": {},
   "outputs": [
    {
     "name": "stdout",
     "output_type": "stream",
     "text": [
      "Found 2774 images belonging to 2 classes.\n"
     ]
    }
   ],
   "source": [
    "train_datagen = ImageDataGenerator(\n",
    "    preprocessing_function=preprocess_input, # Use MobileNetV2's preprocess_input\n",
    "    rotation_range=90, # Data Augmentation\n",
    "    horizontal_flip=True,\n",
    "    vertical_flip=True\n",
    ")\n",
    "train_generator = train_datagen.flow_from_directory(\n",
    "    train_dir,\n",
    "    target_size=(height, width),\n",
    "    batch_size=batch_size\n",
    ")"
   ]
  },
  {
   "cell_type": "code",
   "execution_count": 6,
   "id": "f778a23d",
   "metadata": {},
   "outputs": [
    {
     "name": "stdout",
     "output_type": "stream",
     "text": [
      "Found 592 images belonging to 2 classes.\n"
     ]
    }
   ],
   "source": [
    "validation_datagen = ImageDataGenerator(preprocessing_function=preprocess_input)\n",
    "validation_generator = validation_datagen.flow_from_directory(\n",
    "    validation_dir,\n",
    "    target_size=(height, width),\n",
    "    batch_size=batch_size,\n",
    "    class_mode='categorical',\n",
    "    shuffle=False\n",
    ")"
   ]
  },
  {
   "cell_type": "code",
   "execution_count": 7,
   "id": "e8e56f09",
   "metadata": {},
   "outputs": [],
   "source": [
    "def build_finetune_model(base_model, dropout, fc_layers, num_classes):\n",
    "    # Freeze the layers of the base model\n",
    "    for layer in base_model.layers:\n",
    "        layer.trainable = False\n",
    "\n",
    "    # Add custom top layers for classification\n",
    "    x = base_model.output\n",
    "    x = Flatten()(x)\n",
    "    for fc in fc_layers:\n",
    "        x = Dense(fc, activation='relu')(x)\n",
    "        x = Dropout(dropout)(x)\n",
    "\n",
    "    predictions = Dense(num_classes, activation='softmax')(x)\n",
    "\n",
    "    finetune_model = Model(inputs=base_model.input, outputs=predictions)\n",
    "    return finetune_model"
   ]
  },
  {
   "cell_type": "code",
   "execution_count": 8,
   "id": "2b85e4cc",
   "metadata": {},
   "outputs": [],
   "source": [
    "class_list = ['Real', 'Fake']\n",
    "FC_Layers = [1024, 1024]\n",
    "dropout = 0.5\n",
    "\n",
    "finetune_model = build_finetune_model(\n",
    "    base_model,\n",
    "    dropout=dropout,\n",
    "    fc_layers=FC_Layers,\n",
    "    num_classes=len(class_list)\n",
    ")"
   ]
  },
  {
   "cell_type": "code",
   "execution_count": 9,
   "id": "266e3c96",
   "metadata": {},
   "outputs": [],
   "source": [
    "num_epochs = 20\n",
    "num_train_images = 2774\n",
    "num_validation_images = 592"
   ]
  },
  {
   "cell_type": "code",
   "execution_count": 10,
   "id": "c158b6bc",
   "metadata": {},
   "outputs": [],
   "source": [
    "# Callbacks for saving the best model and stopping early\n",
    "checkpoint = ModelCheckpoint(\n",
    "    \"MobileNetV2_model_improved.h5\", # Using a new name for the improved model\n",
    "    monitor='val_accuracy',\n",
    "    verbose=1,\n",
    "    save_best_only=True,\n",
    "    save_weights_only=False,\n",
    "    mode='auto',\n",
    "    save_freq='epoch'\n",
    ")\n",
    "early = EarlyStopping(\n",
    "    monitor='val_accuracy',\n",
    "    min_delta=0,\n",
    "    patience=10, # Can be reduced as the scheduler will help\n",
    "    verbose=1,\n",
    "    mode=\"auto\"\n",
    ")"
   ]
  },
  {
   "cell_type": "markdown",
   "id": "19ddf496",
   "metadata": {},
   "source": [
    "# We are using ReduceLROnPlateau, which will reduce the learning rate when a metric (validation_accuracy) has stopped improving."
   ]
  },
  {
   "cell_type": "code",
   "execution_count": 11,
   "id": "e12422ab",
   "metadata": {},
   "outputs": [],
   "source": [
    "reduce_lr = ReduceLROnPlateau(\n",
    "    monitor='val_loss',\n",
    "    factor=0.2,\n",
    "    patience=5,\n",
    "    verbose=1,\n",
    "    min_lr=0.00001\n",
    ")\n",
    "\n",
    "# Compile the model with the Adam optimizer\n",
    "optimizer = Adam(learning_rate=0.001)\n",
    "finetune_model.compile(\n",
    "    loss=\"categorical_crossentropy\",\n",
    "    optimizer=optimizer,\n",
    "    metrics=['accuracy']\n",
    ")\n",
    "\n",
    "callbacks = [checkpoint, early, reduce_lr]"
   ]
  },
  {
   "cell_type": "code",
   "execution_count": 12,
   "id": "454d169b",
   "metadata": {},
   "outputs": [
    {
     "name": "stderr",
     "output_type": "stream",
     "text": [
      "c:\\Users\\PRATYAOY SARKAR\\FinalYrProject\\myenv\\Lib\\site-packages\\keras\\src\\trainers\\data_adapters\\py_dataset_adapter.py:121: UserWarning: Your `PyDataset` class should call `super().__init__(**kwargs)` in its constructor. `**kwargs` can include `workers`, `use_multiprocessing`, `max_queue_size`. Do not pass these arguments to `fit()`, as they will be ignored.\n",
      "  self._warn_if_super_not_called()\n"
     ]
    },
    {
     "name": "stdout",
     "output_type": "stream",
     "text": [
      "Epoch 1/20\n",
      "\u001b[1m346/346\u001b[0m \u001b[32m━━━━━━━━━━━━━━━━━━━━\u001b[0m\u001b[37m\u001b[0m \u001b[1m0s\u001b[0m 1s/step - accuracy: 0.6224 - loss: 19.4897\n",
      "Epoch 1: val_accuracy improved from None to 0.78041, saving model to MobileNetV2_model_improved.h5\n"
     ]
    },
    {
     "name": "stderr",
     "output_type": "stream",
     "text": [
      "WARNING:absl:You are saving your model as an HDF5 file via `model.save()` or `keras.saving.save_model(model)`. This file format is considered legacy. We recommend using instead the native Keras format, e.g. `model.save('my_model.keras')` or `keras.saving.save_model(model, 'my_model.keras')`. \n"
     ]
    },
    {
     "name": "stdout",
     "output_type": "stream",
     "text": [
      "\u001b[1m346/346\u001b[0m \u001b[32m━━━━━━━━━━━━━━━━━━━━\u001b[0m\u001b[37m\u001b[0m \u001b[1m446s\u001b[0m 1s/step - accuracy: 0.6840 - loss: 10.7124 - val_accuracy: 0.7804 - val_loss: 1.1625 - learning_rate: 0.0010\n",
      "Epoch 2/20\n",
      "\u001b[1m  1/346\u001b[0m \u001b[37m━━━━━━━━━━━━━━━━━━━━\u001b[0m \u001b[1m7:37\u001b[0m 1s/step - accuracy: 1.0000 - loss: 0.0012"
     ]
    },
    {
     "name": "stderr",
     "output_type": "stream",
     "text": [
      "c:\\Users\\PRATYAOY SARKAR\\FinalYrProject\\myenv\\Lib\\site-packages\\keras\\src\\trainers\\epoch_iterator.py:116: UserWarning: Your input ran out of data; interrupting training. Make sure that your dataset or generator can generate at least `steps_per_epoch * epochs` batches. You may need to use the `.repeat()` function when building your dataset.\n",
      "  self._interrupted_warning()\n"
     ]
    },
    {
     "name": "stdout",
     "output_type": "stream",
     "text": [
      "\n",
      "Epoch 2: val_accuracy did not improve from 0.78041\n",
      "\u001b[1m346/346\u001b[0m \u001b[32m━━━━━━━━━━━━━━━━━━━━\u001b[0m\u001b[37m\u001b[0m \u001b[1m20s\u001b[0m 55ms/step - accuracy: 1.0000 - loss: 0.0012 - val_accuracy: 0.7804 - val_loss: 1.1787 - learning_rate: 0.0010\n",
      "Epoch 3/20\n",
      "\u001b[1m346/346\u001b[0m \u001b[32m━━━━━━━━━━━━━━━━━━━━\u001b[0m\u001b[37m\u001b[0m \u001b[1m0s\u001b[0m 1s/step - accuracy: 0.7505 - loss: 1.4765\n",
      "Epoch 3: val_accuracy improved from 0.78041 to 0.81588, saving model to MobileNetV2_model_improved.h5\n"
     ]
    },
    {
     "name": "stderr",
     "output_type": "stream",
     "text": [
      "WARNING:absl:You are saving your model as an HDF5 file via `model.save()` or `keras.saving.save_model(model)`. This file format is considered legacy. We recommend using instead the native Keras format, e.g. `model.save('my_model.keras')` or `keras.saving.save_model(model, 'my_model.keras')`. \n"
     ]
    },
    {
     "name": "stdout",
     "output_type": "stream",
     "text": [
      "\u001b[1m346/346\u001b[0m \u001b[32m━━━━━━━━━━━━━━━━━━━━\u001b[0m\u001b[37m\u001b[0m \u001b[1m413s\u001b[0m 1s/step - accuracy: 0.7650 - loss: 1.0522 - val_accuracy: 0.8159 - val_loss: 0.5195 - learning_rate: 0.0010\n",
      "Epoch 4/20\n",
      "\u001b[1m  1/346\u001b[0m \u001b[37m━━━━━━━━━━━━━━━━━━━━\u001b[0m \u001b[1m6:28\u001b[0m 1s/step - accuracy: 0.8750 - loss: 0.3064\n",
      "Epoch 4: val_accuracy improved from 0.81588 to 0.82095, saving model to MobileNetV2_model_improved.h5\n"
     ]
    },
    {
     "name": "stderr",
     "output_type": "stream",
     "text": [
      "WARNING:absl:You are saving your model as an HDF5 file via `model.save()` or `keras.saving.save_model(model)`. This file format is considered legacy. We recommend using instead the native Keras format, e.g. `model.save('my_model.keras')` or `keras.saving.save_model(model, 'my_model.keras')`. \n"
     ]
    },
    {
     "name": "stdout",
     "output_type": "stream",
     "text": [
      "\u001b[1m346/346\u001b[0m \u001b[32m━━━━━━━━━━━━━━━━━━━━\u001b[0m\u001b[37m\u001b[0m \u001b[1m26s\u001b[0m 73ms/step - accuracy: 0.8750 - loss: 0.3064 - val_accuracy: 0.8209 - val_loss: 0.5122 - learning_rate: 0.0010\n",
      "Epoch 5/20\n",
      "\u001b[1m346/346\u001b[0m \u001b[32m━━━━━━━━━━━━━━━━━━━━\u001b[0m\u001b[37m\u001b[0m \u001b[1m0s\u001b[0m 1s/step - accuracy: 0.7706 - loss: 0.6677\n",
      "Epoch 5: val_accuracy did not improve from 0.82095\n",
      "\u001b[1m346/346\u001b[0m \u001b[32m━━━━━━━━━━━━━━━━━━━━\u001b[0m\u001b[37m\u001b[0m \u001b[1m430s\u001b[0m 1s/step - accuracy: 0.7730 - loss: 0.6059 - val_accuracy: 0.6554 - val_loss: 0.6098 - learning_rate: 0.0010\n",
      "Epoch 6/20\n",
      "\u001b[1m  1/346\u001b[0m \u001b[37m━━━━━━━━━━━━━━━━━━━━\u001b[0m \u001b[1m6:08\u001b[0m 1s/step - accuracy: 0.7500 - loss: 0.3688\n",
      "Epoch 6: val_accuracy did not improve from 0.82095\n",
      "\u001b[1m346/346\u001b[0m \u001b[32m━━━━━━━━━━━━━━━━━━━━\u001b[0m\u001b[37m\u001b[0m \u001b[1m19s\u001b[0m 52ms/step - accuracy: 0.7500 - loss: 0.3688 - val_accuracy: 0.6470 - val_loss: 0.6173 - learning_rate: 0.0010\n",
      "Epoch 7/20\n",
      "\u001b[1m346/346\u001b[0m \u001b[32m━━━━━━━━━━━━━━━━━━━━\u001b[0m\u001b[37m\u001b[0m \u001b[1m0s\u001b[0m 1s/step - accuracy: 0.7342 - loss: 0.6214\n",
      "Epoch 7: val_accuracy did not improve from 0.82095\n",
      "\u001b[1m346/346\u001b[0m \u001b[32m━━━━━━━━━━━━━━━━━━━━\u001b[0m\u001b[37m\u001b[0m \u001b[1m405s\u001b[0m 1s/step - accuracy: 0.7491 - loss: 0.5987 - val_accuracy: 0.7821 - val_loss: 0.4988 - learning_rate: 0.0010\n",
      "Epoch 8/20\n",
      "\u001b[1m  1/346\u001b[0m \u001b[37m━━━━━━━━━━━━━━━━━━━━\u001b[0m \u001b[1m6:08\u001b[0m 1s/step - accuracy: 0.5000 - loss: 0.9262\n",
      "Epoch 8: val_accuracy did not improve from 0.82095\n",
      "\u001b[1m346/346\u001b[0m \u001b[32m━━━━━━━━━━━━━━━━━━━━\u001b[0m\u001b[37m\u001b[0m \u001b[1m19s\u001b[0m 52ms/step - accuracy: 0.5000 - loss: 0.9262 - val_accuracy: 0.8024 - val_loss: 0.4812 - learning_rate: 0.0010\n",
      "Epoch 9/20\n",
      "\u001b[1m346/346\u001b[0m \u001b[32m━━━━━━━━━━━━━━━━━━━━\u001b[0m\u001b[37m\u001b[0m \u001b[1m0s\u001b[0m 1s/step - accuracy: 0.7607 - loss: 0.5136\n",
      "Epoch 9: val_accuracy did not improve from 0.82095\n",
      "\u001b[1m346/346\u001b[0m \u001b[32m━━━━━━━━━━━━━━━━━━━━\u001b[0m\u001b[37m\u001b[0m \u001b[1m419s\u001b[0m 1s/step - accuracy: 0.7549 - loss: 0.5378 - val_accuracy: 0.7568 - val_loss: 0.6113 - learning_rate: 0.0010\n",
      "Epoch 10/20\n",
      "\u001b[1m  1/346\u001b[0m \u001b[37m━━━━━━━━━━━━━━━━━━━━\u001b[0m \u001b[1m6:21\u001b[0m 1s/step - accuracy: 0.5000 - loss: 0.7323\n",
      "Epoch 10: val_accuracy did not improve from 0.82095\n",
      "\u001b[1m346/346\u001b[0m \u001b[32m━━━━━━━━━━━━━━━━━━━━\u001b[0m\u001b[37m\u001b[0m \u001b[1m20s\u001b[0m 56ms/step - accuracy: 0.5000 - loss: 0.7323 - val_accuracy: 0.7601 - val_loss: 0.5835 - learning_rate: 0.0010\n",
      "Epoch 11/20\n",
      "\u001b[1m346/346\u001b[0m \u001b[32m━━━━━━━━━━━━━━━━━━━━\u001b[0m\u001b[37m\u001b[0m \u001b[1m0s\u001b[0m 1s/step - accuracy: 0.7447 - loss: 0.5685\n",
      "Epoch 11: val_accuracy did not improve from 0.82095\n",
      "\u001b[1m346/346\u001b[0m \u001b[32m━━━━━━━━━━━━━━━━━━━━\u001b[0m\u001b[37m\u001b[0m \u001b[1m427s\u001b[0m 1s/step - accuracy: 0.7498 - loss: 0.5701 - val_accuracy: 0.7939 - val_loss: 0.5534 - learning_rate: 0.0010\n",
      "Epoch 12/20\n",
      "\u001b[1m  1/346\u001b[0m \u001b[37m━━━━━━━━━━━━━━━━━━━━\u001b[0m \u001b[1m6:30\u001b[0m 1s/step - accuracy: 0.7500 - loss: 0.3712\n",
      "Epoch 12: val_accuracy did not improve from 0.82095\n",
      "\u001b[1m346/346\u001b[0m \u001b[32m━━━━━━━━━━━━━━━━━━━━\u001b[0m\u001b[37m\u001b[0m \u001b[1m21s\u001b[0m 57ms/step - accuracy: 0.7500 - loss: 0.3712 - val_accuracy: 0.7889 - val_loss: 0.5702 - learning_rate: 0.0010\n",
      "Epoch 13/20\n",
      "\u001b[1m346/346\u001b[0m \u001b[32m━━━━━━━━━━━━━━━━━━━━\u001b[0m\u001b[37m\u001b[0m \u001b[1m0s\u001b[0m 1s/step - accuracy: 0.7496 - loss: 0.5333\n",
      "Epoch 13: val_accuracy did not improve from 0.82095\n",
      "\n",
      "Epoch 13: ReduceLROnPlateau reducing learning rate to 0.00020000000949949026.\n",
      "\u001b[1m346/346\u001b[0m \u001b[32m━━━━━━━━━━━━━━━━━━━━\u001b[0m\u001b[37m\u001b[0m \u001b[1m451s\u001b[0m 1s/step - accuracy: 0.7643 - loss: 0.5205 - val_accuracy: 0.6740 - val_loss: 0.6482 - learning_rate: 0.0010\n",
      "Epoch 14/20\n",
      "\u001b[1m  1/346\u001b[0m \u001b[37m━━━━━━━━━━━━━━━━━━━━\u001b[0m \u001b[1m6:39\u001b[0m 1s/step - accuracy: 0.7500 - loss: 0.5155\n",
      "Epoch 14: val_accuracy did not improve from 0.82095\n",
      "\u001b[1m346/346\u001b[0m \u001b[32m━━━━━━━━━━━━━━━━━━━━\u001b[0m\u001b[37m\u001b[0m \u001b[1m25s\u001b[0m 68ms/step - accuracy: 0.7500 - loss: 0.5155 - val_accuracy: 0.6740 - val_loss: 0.6447 - learning_rate: 2.0000e-04\n",
      "Epoch 14: early stopping\n"
     ]
    }
   ],
   "source": [
    "history = finetune_model.fit(\n",
    "    train_generator,\n",
    "    steps_per_epoch=num_train_images // batch_size,\n",
    "    epochs=num_epochs,\n",
    "    validation_data=validation_generator,\n",
    "    validation_steps=num_validation_images // batch_size, # Corrected validation_steps\n",
    "    callbacks=callbacks # Use the new callbacks list\n",
    ")"
   ]
  },
  {
   "cell_type": "code",
   "execution_count": 13,
   "id": "532e7ed6",
   "metadata": {},
   "outputs": [
    {
     "name": "stderr",
     "output_type": "stream",
     "text": [
      "WARNING:absl:Compiled the loaded model, but the compiled metrics have yet to be built. `model.compile_metrics` will be empty until you train or evaluate the model.\n"
     ]
    },
    {
     "name": "stdout",
     "output_type": "stream",
     "text": [
      "\u001b[1m74/74\u001b[0m \u001b[32m━━━━━━━━━━━━━━━━━━━━\u001b[0m\u001b[37m\u001b[0m \u001b[1m28s\u001b[0m 297ms/step\n"
     ]
    }
   ],
   "source": [
    "MODEL_PATH = \"MobileNetV2_model_improved.h5\" \n",
    "\n",
    "model = load_model(MODEL_PATH)\n",
    "true_labels = validation_generator.classes\n",
    "class_labels = list(validation_generator.class_indices.keys())\n",
    "\n",
    "predictions = model.predict(validation_generator)\n",
    "predicted_labels = np.argmax(predictions, axis=1)\n"
   ]
  },
  {
   "cell_type": "code",
   "execution_count": 14,
   "id": "6d8a95d9",
   "metadata": {},
   "outputs": [],
   "source": [
    "from sklearn.metrics import classification_report, accuracy_score"
   ]
  },
  {
   "cell_type": "code",
   "execution_count": 15,
   "id": "3b96e159",
   "metadata": {},
   "outputs": [
    {
     "name": "stdout",
     "output_type": "stream",
     "text": [
      "Final Training Accuracy: 0.7500\n",
      "Final Validation Accuracy: 0.6740\n"
     ]
    }
   ],
   "source": [
    "train_acc = history.history['accuracy']\n",
    "val_acc = history.history['val_accuracy']\n",
    "\n",
    "# Printing the final accuracy values\n",
    "print(f\"Final Training Accuracy: {train_acc[-1]:.4f}\")\n",
    "print(f\"Final Validation Accuracy: {val_acc[-1]:.4f}\")"
   ]
  },
  {
   "cell_type": "code",
   "execution_count": 16,
   "id": "fe4c20a1",
   "metadata": {},
   "outputs": [
    {
     "name": "stdout",
     "output_type": "stream",
     "text": [
      "--- Model Evaluation Report ---\n",
      "Accuracy: 0.8209\n",
      "\n",
      "Classification Report:\n",
      "              precision    recall  f1-score   support\n",
      "\n",
      "        fake       0.77      0.92      0.84       296\n",
      "        real       0.90      0.73      0.80       296\n",
      "\n",
      "    accuracy                           0.82       592\n",
      "   macro avg       0.83      0.82      0.82       592\n",
      "weighted avg       0.83      0.82      0.82       592\n",
      "\n"
     ]
    }
   ],
   "source": [
    "print(\"--- Model Evaluation Report ---\")\n",
    "accuracy = accuracy_score(true_labels, predicted_labels)\n",
    "print(f\"Accuracy: {accuracy:.4f}\\n\")\n",
    "\n",
    "# Print precision, recall, f1-score for each class\n",
    "print(\"Classification Report:\")\n",
    "print(classification_report(true_labels, predicted_labels, target_names=class_labels))"
   ]
  },
  {
   "cell_type": "code",
   "execution_count": 17,
   "id": "1681de6a",
   "metadata": {},
   "outputs": [
    {
     "data": {
      "image/png": "[encoded data removed]",
      "text/plain": [
       "<Figure size 1200x600 with 1 Axes>"
      ]
     },
     "metadata": {},
     "output_type": "display_data"
    }
   ],
   "source": [
    "plt.figure(figsize=(12, 6))\n",
    "plt.plot(train_acc, label='Training Accuracy', color='blue', marker='o')\n",
    "plt.plot(val_acc, label='Validation Accuracy', color='orange', marker='x')\n",
    "\n",
    "# Adding titles and labels for clarity\n",
    "plt.title('Training and Validation Accuracy Over Epochs', fontsize=16)\n",
    "plt.xlabel('Epoch', fontsize=12)\n",
    "plt.ylabel('Accuracy', fontsize=12)\n",
    "plt.legend(loc='best')\n",
    "plt.grid(True)\n",
    "\n",
    "# Display the plot\n",
    "plt.show()"
   ]
  }
 ],
 "metadata": {
  "kernelspec": {
   "display_name": "myenv",
   "language": "python",
   "name": "python3"
  },
  "language_info": {
   "codemirror_mode": {
    "name": "ipython",
    "version": 3
   },
   "file_extension": ".py",
   "mimetype": "text/x-python",
   "name": "python",
   "nbconvert_exporter": "python",
   "pygments_lexer": "ipython3",
   "version": "3.11.2"
  }
 },
 "nbformat": 4,
 "nbformat_minor": 5
}
